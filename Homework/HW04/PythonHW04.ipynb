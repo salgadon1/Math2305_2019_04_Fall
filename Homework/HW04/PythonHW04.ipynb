{
 "cells": [
  {
   "cell_type": "markdown",
   "metadata": {},
   "source": [
    "# Python HW04"
   ]
  },
  {
   "cell_type": "markdown",
   "metadata": {},
   "source": [
    "**New Python Concepts**\n",
    "- `while` loop"
   ]
  },
  {
   "cell_type": "markdown",
   "metadata": {},
   "source": [
    "**Question 1**\n",
    "\n",
    "Use a `for` loop and a `break` statement to determin if the following proposition is satisfiable.$$(p\\ \\vee q\\ \\vee r)\\ \\wedge (\\sim p\\ \\vee \\sim q\\ \\vee \\sim r)$$\n",
    "\n",
    "Print a statement indicating your answer, and if it is satisfiable, print the first solution encountered."
   ]
  },
  {
   "cell_type": "code",
   "execution_count": null,
   "metadata": {
    "collapsed": true
   },
   "outputs": [],
   "source": []
  },
  {
   "cell_type": "markdown",
   "metadata": {},
   "source": [
    "**Question 2**\n",
    "\n",
    "Use a `while` loop to determine if the following statement is satisfiable.\n",
    "$$(p\\ \\wedge \\sim q)\\ \\vee (\\sim p\\ \\wedge q)$$\n",
    "\n",
    "Print a statement indicating your answer, and if it is satisfiable, print the first solution encountered."
   ]
  },
  {
   "cell_type": "code",
   "execution_count": null,
   "metadata": {
    "collapsed": true
   },
   "outputs": [],
   "source": []
  },
  {
   "cell_type": "markdown",
   "metadata": {},
   "source": [
    "Upload your completed work to blackboard."
   ]
  }
 ],
 "metadata": {
  "kernelspec": {
   "display_name": "Python 3",
   "language": "python",
   "name": "python3"
  },
  "language_info": {
   "codemirror_mode": {
    "name": "ipython",
    "version": 3
   },
   "file_extension": ".py",
   "mimetype": "text/x-python",
   "name": "python",
   "nbconvert_exporter": "python",
   "pygments_lexer": "ipython3",
   "version": "3.6.3"
  }
 },
 "nbformat": 4,
 "nbformat_minor": 2
}
