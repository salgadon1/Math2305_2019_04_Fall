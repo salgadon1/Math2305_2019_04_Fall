{
 "cells": [
  {
   "cell_type": "markdown",
   "metadata": {},
   "source": [
    "# Python HW03"
   ]
  },
  {
   "cell_type": "markdown",
   "metadata": {},
   "source": [
    "**New Python Concepts:**\n",
    "- `if/else` flow control\n",
    "- `break` statement"
   ]
  },
  {
   "cell_type": "markdown",
   "metadata": {},
   "source": [
    "**Question 1**\n",
    "\n",
    "Use a `for` loop with `break` statments contained in `if/else` blocks to determine if the following statments are equivalent.\n",
    "\n",
    "$$s:\\ \\sim (\\sim p\\ \\vee q)\\ \\wedge \\sim (\\sim p\\ \\vee r)$$\n",
    "$$t:\\ \\sim p\\ \\vee \\sim (\\sim q\\ \\wedge \\sim r)\\ \\hspace{0.45in} \\ $$"
   ]
  },
  {
   "cell_type": "code",
   "execution_count": null,
   "metadata": {
    "collapsed": true
   },
   "outputs": [],
   "source": []
  },
  {
   "cell_type": "markdown",
   "metadata": {},
   "source": [
    "Save this file to your computer and upload it to blackboard."
   ]
  }
 ],
 "metadata": {
  "kernelspec": {
   "display_name": "Python 3",
   "language": "python",
   "name": "python3"
  },
  "language_info": {
   "codemirror_mode": {
    "name": "ipython",
    "version": 3
   },
   "file_extension": ".py",
   "mimetype": "text/x-python",
   "name": "python",
   "nbconvert_exporter": "python",
   "pygments_lexer": "ipython3",
   "version": "3.7.1"
  }
 },
 "nbformat": 4,
 "nbformat_minor": 2
}
