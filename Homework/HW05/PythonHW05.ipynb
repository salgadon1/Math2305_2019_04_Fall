{
 "cells": [
  {
   "cell_type": "markdown",
   "metadata": {},
   "source": [
    "# Python HW05"
   ]
  },
  {
   "cell_type": "markdown",
   "metadata": {},
   "source": [
    "Members of the [Bay Area Bike Share](http://www.bayareabikeshare.com/) are able, for a very low cost, to ride bikes between stations all over the San Francisco Bay area.  The following files contain data collected from the program.\n",
    "- `trips_20150831.csv`: Data for all bike share trips on 08/31/2015\n",
    "- `SanFrancisco.csv`: Data about the stations in San Francisco\n",
    "- `SanJose.csv`: Data about the stations in San Jose\n",
    "\n",
    "Below is the function given in class to read a csv file and return its contents as a list of tuples. (Don't worry if you don't understand the particulars.  We'll be discussing everything you need to know about functions soon)."
   ]
  },
  {
   "cell_type": "code",
   "execution_count": 1,
   "metadata": {
    "collapsed": true
   },
   "outputs": [],
   "source": [
    "# This function reads a CSV file and stores it as a list of tuples.  \n",
    "# Do not change this code block.  Just run it.  \n",
    "\n",
    "import csv\n",
    "\n",
    "def readCSV(file):\n",
    "    fh = open(file,'r')                                  # open file for reading\n",
    "    data = csv.reader(fh,delimiter=',',quotechar='\"')    # create a csv reader.  this is needed because some titles\n",
    "                                                         # contain commas\n",
    "\n",
    "    contents = []                                        # create an empty list in which to store the data \n",
    "    count = 0\n",
    "    for line in data:                                    # process each line of the file\n",
    "        count += 1\n",
    "        if(count==1):                                    # skip the first line which contains column headers\n",
    "            continue\n",
    "        lineData = tuple(line)                           # store the data as a tuple (for consistency with the previous example)\n",
    "        contents.append(lineData)                        # add the tuple of data to the topMovies list.\n",
    "\n",
    "    return contents\n",
    "\n",
    "# Use the readCSV function above to complete exercises below.\n",
    "# YOU DO NOT NEED TO COPY THE CODE FOR THIS FUNCTION INTO THE BLOCKS BELOW!\n",
    "# Just call the function like we did in class."
   ]
  },
  {
   "cell_type": "markdown",
   "metadata": {},
   "source": [
    "First, use the `readCSV` function to read the file `trips_20150831.csv` and create a set named `trips` that contains all stations that were visited on 08/31/2015. (You can use either `Start Station` or `End Station`. Both columns contain the same information.) "
   ]
  },
  {
   "cell_type": "code",
   "execution_count": null,
   "metadata": {
    "collapsed": true
   },
   "outputs": [],
   "source": []
  },
  {
   "cell_type": "markdown",
   "metadata": {},
   "source": [
    "Now read the file `SanFrancisco.csv` and create a set named `SanFrancisco` that contains the names of all of the stations in San Francisco. (names are in the second column of the file)."
   ]
  },
  {
   "cell_type": "code",
   "execution_count": null,
   "metadata": {
    "collapsed": true
   },
   "outputs": [],
   "source": []
  },
  {
   "cell_type": "markdown",
   "metadata": {},
   "source": [
    "Next read the file `SanJose.csv` and create a set named `SanJose` that contains the names of all of the stations in San Jose. (names are in the second column of the file)."
   ]
  },
  {
   "cell_type": "code",
   "execution_count": null,
   "metadata": {
    "collapsed": true
   },
   "outputs": [],
   "source": []
  },
  {
   "cell_type": "markdown",
   "metadata": {},
   "source": [
    "Use set operations to create a set called `SForSJ` that contains all stations that are either in San Francisco or San Jose"
   ]
  },
  {
   "cell_type": "code",
   "execution_count": null,
   "metadata": {
    "collapsed": true
   },
   "outputs": [],
   "source": []
  },
  {
   "cell_type": "markdown",
   "metadata": {},
   "source": [
    "Finally, use set operations to create a set called `neither` that contains all stations visited that are neither in San Francisco nor San Jose."
   ]
  },
  {
   "cell_type": "code",
   "execution_count": null,
   "metadata": {
    "collapsed": true
   },
   "outputs": [],
   "source": []
  },
  {
   "cell_type": "markdown",
   "metadata": {},
   "source": [
    "Upload your completed Jupyter notebook by 11:59pm on Thursday 10/18"
   ]
  }
 ],
 "metadata": {
  "kernelspec": {
   "display_name": "Python 3",
   "language": "python",
   "name": "python3"
  },
  "language_info": {
   "codemirror_mode": {
    "name": "ipython",
    "version": 3
   },
   "file_extension": ".py",
   "mimetype": "text/x-python",
   "name": "python",
   "nbconvert_exporter": "python",
   "pygments_lexer": "ipython3",
   "version": "3.6.3"
  }
 },
 "nbformat": 4,
 "nbformat_minor": 2
}
