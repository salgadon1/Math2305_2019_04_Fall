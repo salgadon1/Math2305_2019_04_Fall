{
 "cells": [
  {
   "cell_type": "markdown",
   "metadata": {},
   "source": [
    "# Python HW06"
   ]
  },
  {
   "cell_type": "markdown",
   "metadata": {},
   "source": [
    "Members of the [Bay Area Bike Share](http://www.bayareabikeshare.com/) are able, for a very low cost, to ride bikes between stations all over the San Francisco Bay area.  The following file contains data collected from the program.\n",
    "- `trips_20150831.csv`: Data for all bike share trips on 08/31/2015\n",
    "\n",
    "Below is the function given in class to read a csv file and return its contents as a list of tuples. (Don't worry if you don't understand the particulars.  We'll be discussing everything you need to know about functions soon).  Make sure you run this cell"
   ]
  },
  {
   "cell_type": "code",
   "execution_count": null,
   "metadata": {
    "collapsed": true
   },
   "outputs": [],
   "source": [
    "# This function reads a CSV file and stores it as a list of tuples.  \n",
    "# Do not change this code block.  Just run it.  \n",
    "import csv\n",
    "\n",
    "def readCSV(file):\n",
    "    fh = open(file,'r')                                  # open file for reading\n",
    "    data = csv.reader(fh,delimiter=',',quotechar='\"')    # create a csv reader.  this is needed because some titles\n",
    "                                                         # contain commas\n",
    "\n",
    "    contents = []                                        # create an empty list in which to store the data \n",
    "    count = 0\n",
    "    for line in data:                                    # process each line of the file\n",
    "        count += 1\n",
    "        if(count==1):                                    # skip the first line which contains column headers\n",
    "            continue\n",
    "        lineData = tuple(line)                           # store the data as a tuple (for consistency with the previous example)\n",
    "        contents.append(lineData)                        # add the tuple of data to the topMovies list.\n",
    "\n",
    "    return contents\n",
    "\n",
    "# Use the readCSV function above to complete exercises below.\n",
    "# YOU DO NOT NEED TO COPY THE CODE FOR THIS FUNCTION INTO THE BLOCKS BELOW!\n",
    "# Just call the function like we did in class"
   ]
  },
  {
   "cell_type": "markdown",
   "metadata": {},
   "source": [
    "Use the `readCSV` function to read the data from `trips_20150831.csv` into a list called `trips`. Then create a dictionary called `terminals` whose keys are the IDs of the terminals used on 08/31/2015 (found in the `Start Terminal` column) and whose values are the corresponing station names (found in the `Start Station` column). An outline of the code is given. Fill in the missing code (marked with ...) .  Only one line should be needed for the final ... ."
   ]
  },
  {
   "cell_type": "code",
   "execution_count": null,
   "metadata": {},
   "outputs": [],
   "source": [
    "import pprint \n",
    "pp = pprint.PrettyPrinter()\n",
    "\n",
    "trips = readCSV('trips_20150831.csv')\n",
    "terminals = #fill in code here\n",
    "# fill in the rest of the code.\n",
    "\n",
    "\n",
    "pp.pprint(terminals)\n"
   ]
  }
 ],
 "metadata": {
  "kernelspec": {
   "display_name": "Python 3",
   "language": "python",
   "name": "python3"
  },
  "language_info": {
   "codemirror_mode": {
    "name": "ipython",
    "version": 3
   },
   "file_extension": ".py",
   "mimetype": "text/x-python",
   "name": "python",
   "nbconvert_exporter": "python",
   "pygments_lexer": "ipython3",
   "version": "3.6.3"
  }
 },
 "nbformat": 4,
 "nbformat_minor": 2
}
