{
 "cells": [
  {
   "cell_type": "markdown",
   "metadata": {},
   "source": [
    "# Python HW02"
   ]
  },
  {
   "cell_type": "markdown",
   "metadata": {},
   "source": [
    "**New Python Concepts**\n",
    "- `for` loop\n",
    "- Boolean values\n",
    "- Logical operators\n",
    "- Sequences (in particular lists)"
   ]
  },
  {
   "cell_type": "markdown",
   "metadata": {},
   "source": [
    "**Question 1**\n",
    "\n",
    "Let $p$, $q$, and $r$ be the following propositions.\n",
    "- $p$: Grizzly bears have been seen in the area.\n",
    "- $q$: Hiking is safe on the trail.\n",
    "- $r$: Berries are ripe along the trail.\n",
    "\n",
    "In the block below, write the python code that prints the truth table for the following statement.\n",
    "\n",
    "   *Hiking is not safe on the trail whenever grizzly bears have been seen in the area and berries are ripe along the trail.*"
   ]
  },
  {
   "cell_type": "code",
   "execution_count": null,
   "metadata": {
    "collapsed": true
   },
   "outputs": [],
   "source": []
  },
  {
   "cell_type": "markdown",
   "metadata": {},
   "source": [
    "Upload your completed work to blackboard."
   ]
  }
 ],
 "metadata": {
  "kernelspec": {
   "display_name": "Python 3",
   "language": "python",
   "name": "python3"
  },
  "language_info": {
   "codemirror_mode": {
    "name": "ipython",
    "version": 3
   },
   "file_extension": ".py",
   "mimetype": "text/x-python",
   "name": "python",
   "nbconvert_exporter": "python",
   "pygments_lexer": "ipython3",
   "version": "3.7.1"
  }
 },
 "nbformat": 4,
 "nbformat_minor": 2
}
