{
 "cells": [
  {
   "cell_type": "markdown",
   "metadata": {},
   "source": [
    "# Object Oriented Programming "
   ]
  },
  {
   "cell_type": "markdown",
   "metadata": {},
   "source": [
    "## 1.  What we have been doing so far: Procedural Programming."
   ]
  },
  {
   "cell_type": "markdown",
   "metadata": {},
   "source": [
    "Suppose we're writing a program where we are working with information about people.  For simplicity, let's assume we're keeping track of each person's first and last name.  \n",
    "\n",
    "Based on what we've been doing so far, we have a few options.  Perhaps we could keep track of the information in a tuple."
   ]
  },
  {
   "cell_type": "code",
   "execution_count": null,
   "metadata": {},
   "outputs": [],
   "source": [
    "Abbott = \n",
    "Davila = \n",
    "Nakamura = \n",
    "\n",
    "Abbott"
   ]
  },
  {
   "cell_type": "markdown",
   "metadata": {},
   "source": [
    "But now what if we want to add another piece of information, perhaps hair color?  We can't because tuples are immutable.  So maybe a list would be a better data structure."
   ]
  },
  {
   "cell_type": "code",
   "execution_count": null,
   "metadata": {},
   "outputs": [],
   "source": [
    "Abbott = \n",
    "Davila = \n",
    "Nakamura = \n",
    "\n"
   ]
  },
  {
   "cell_type": "markdown",
   "metadata": {},
   "source": [
    "This is better, but what if we had a long list of attributes and we wanted to access the hair color, or eye color, or shoe size?  We have to keep track of what entry holds each attribute and we have ensure that we don't store the information in the wrong location.\n",
    "\n",
    "A further improvement might be to use a dictionary so that we can use the names of the attributes as keys."
   ]
  },
  {
   "cell_type": "code",
   "execution_count": null,
   "metadata": {},
   "outputs": [],
   "source": [
    "Abbott = \n",
    "Davila = \n",
    "Nakamura =\n",
    "\n"
   ]
  },
  {
   "cell_type": "markdown",
   "metadata": {},
   "source": [
    "But there is still another limitation; we can't ask one of these people to do much beyond telling us the value of an attribute. So we have to begin writing more functions to make the people do things. \n",
    "\n",
    "The point is that we are working under some significant limitations when we only use the basic data structures."
   ]
  },
  {
   "cell_type": "markdown",
   "metadata": {},
   "source": [
    "## 2. A better way: Objects"
   ]
  },
  {
   "cell_type": "markdown",
   "metadata": {},
   "source": [
    "The solution to these limitations is through objects.  We want to be able to create a 'Person' object that has attributes (like `last_name`,`first_name`, and `hair_color`) and can perform tasks (like giving its full name).\n",
    "\n",
    "The template for such an object is called a **class**.  The `Person` class might look something like this."
   ]
  },
  {
   "cell_type": "code",
   "execution_count": null,
   "metadata": {},
   "outputs": [],
   "source": [
    "class Person:\n",
    "    \n",
    "    def __init__(self,first,last):\n",
    "        self.first_name = first\n",
    "        self.last_name = last"
   ]
  },
  {
   "cell_type": "markdown",
   "metadata": {},
   "source": [
    "This class contains two types of structures.\n",
    "- The function `__init__` is called a **method.**\n",
    "- The variables `self.first_name` and `self.last_name` are called **instance variables**\n",
    "\n",
    "The `__init__` method is special type of function called a **constructor**.  It defines how a particular **instance** of the class `Person` is created.  In this case, two arguments are needed *first name* and *last name*."
   ]
  },
  {
   "cell_type": "code",
   "execution_count": null,
   "metadata": {},
   "outputs": [],
   "source": [
    "Abbott = \n",
    "Davila = \n",
    "Nakamura = \n",
    "\n"
   ]
  },
  {
   "cell_type": "markdown",
   "metadata": {},
   "source": [
    "But what about the `self` parameter?  The first entry in any method in any class is a reference to the instance, the variable name `self` is customarily used.  This parameter is ignored when calling the method."
   ]
  },
  {
   "cell_type": "markdown",
   "metadata": {},
   "source": [
    "If we want a person to be able to give its full name, we can add a method to the person class to do this."
   ]
  },
  {
   "cell_type": "code",
   "execution_count": null,
   "metadata": {},
   "outputs": [],
   "source": [
    "class Person:\n",
    "    \n",
    "    def __init__(self,first,last):\n",
    "        self.first_name = first\n",
    "        self.last_name = last\n",
    "    \n",
    "    ###\n",
    "        "
   ]
  },
  {
   "cell_type": "code",
   "execution_count": null,
   "metadata": {},
   "outputs": [],
   "source": [
    "Abbott = \n",
    "Davila = \n",
    "Nakamura = \n",
    "\n"
   ]
  },
  {
   "cell_type": "markdown",
   "metadata": {},
   "source": [
    "It may happen that you need to define an attribute that is the same for all instances of the class.  For example, biologically, every person belongs to the species *homo sapiens*.  We would incorporate that into the class as follows."
   ]
  },
  {
   "cell_type": "code",
   "execution_count": null,
   "metadata": {},
   "outputs": [],
   "source": [
    "class Person:\n",
    "    \n",
    "    ###\n",
    "    \n",
    "    def __init__(self,first,last):\n",
    "        self.first_name = first\n",
    "        self.last_name = last\n",
    "    \n",
    "    def full_name(self):\n",
    "        return self.last_name + \", \" + self.first_name\n",
    "        "
   ]
  },
  {
   "cell_type": "code",
   "execution_count": null,
   "metadata": {},
   "outputs": [],
   "source": [
    "Abbott = \n",
    "Davila = \n",
    "Nakamura = \n",
    "\n"
   ]
  },
  {
   "cell_type": "markdown",
   "metadata": {},
   "source": [
    "We can update a class variable at the instance level..."
   ]
  },
  {
   "cell_type": "code",
   "execution_count": null,
   "metadata": {
    "scrolled": true
   },
   "outputs": [],
   "source": []
  },
  {
   "cell_type": "markdown",
   "metadata": {},
   "source": [
    "Or at the class level."
   ]
  },
  {
   "cell_type": "code",
   "execution_count": null,
   "metadata": {},
   "outputs": [],
   "source": []
  },
  {
   "cell_type": "markdown",
   "metadata": {},
   "source": [
    "Notice that an update at the instance level takes precedence over a change at the class level."
   ]
  },
  {
   "cell_type": "markdown",
   "metadata": {},
   "source": [
    "## 3.  Subclasses"
   ]
  },
  {
   "cell_type": "markdown",
   "metadata": {},
   "source": [
    "So we have a class to define a generic `Person`, but suppose that we want to focus on the specific instances of `Person` who are faculty at UHD.  We want a specialized class is still a `Person` but has extra attributes (or perhaps redefines some attributes).  \n",
    "\n",
    "We will create a **subclass** of the class `Person`."
   ]
  },
  {
   "cell_type": "code",
   "execution_count": null,
   "metadata": {},
   "outputs": [],
   "source": [
    "class UHD_Faculty(Person):\n",
    "    \n",
    "    def __init__(self,first,last,position,dept):\n",
    "        \n",
    "        Person.__init__(self,first,last)\n",
    "        self.position = position\n",
    "        self.department = dept\n",
    "        self.current_courses = []\n",
    "    \n",
    "    def add_course(self,course):\n",
    "        self.current_courses.append(course)\n",
    "    "
   ]
  },
  {
   "cell_type": "code",
   "execution_count": null,
   "metadata": {},
   "outputs": [],
   "source": [
    "Abbott_faculty = \n",
    "Abbott_faculty.first_name"
   ]
  },
  {
   "cell_type": "markdown",
   "metadata": {},
   "source": [
    "Notice that `first_name` was not defined in `UHD_Faculty`; instead it was **inherited** from its **parent class**, `Person`.  The method `full_name` was also inherited."
   ]
  },
  {
   "cell_type": "code",
   "execution_count": null,
   "metadata": {},
   "outputs": [],
   "source": []
  },
  {
   "cell_type": "markdown",
   "metadata": {},
   "source": [
    "But we also add in new attributes and methods."
   ]
  },
  {
   "cell_type": "code",
   "execution_count": null,
   "metadata": {},
   "outputs": [],
   "source": [
    "\n",
    "Abbott_faculty.current_courses"
   ]
  },
  {
   "cell_type": "markdown",
   "metadata": {},
   "source": [
    "## 4. Your Turn\n",
    "\n",
    "In this folder is a filed called `Graph.py` containing a class called `Graph` that defines a graph object.  Also, there is a file called `Weighted_Graph.py` containig a class called `Weighted_Graph` that is a sublass of `Graph`.  The code block below imports these classes and makes them available for you to use."
   ]
  },
  {
   "cell_type": "code",
   "execution_count": null,
   "metadata": {},
   "outputs": [],
   "source": [
    "from Graph import Graph\n",
    "from Weighted_Graph import Weighted_Graph\n",
    "%matplotlib inline"
   ]
  },
  {
   "cell_type": "markdown",
   "metadata": {},
   "source": [
    "You can take a look inside the files to familiarize yourself with the methods and variables, but this is not necessary.  The big things you need to know are \n",
    "1. A `Graph` object can be created in one of two ways.\n",
    "    * `G=Graph(<file>)`  where `<file>` is a file defining the graph (don't worry about the format too much).\n",
    "    * `G=Graph(V,E)` where `V` is the vertex set and `E` is the edge set.\n",
    "\n",
    "\n",
    "\n",
    "2. A `Weighted_Graph` object can also be created in a few ways, but the only one you need to worry about is\n",
    "    * `G=Graph(<file>)`  where `<file>` is a file defining the graph (don't worry about the format too much).\n",
    "\n",
    "\n",
    "\n",
    "3. The key variables and methods for the `Graph` and `Weighted_Graph` classes are are.\n",
    "    - ***Variables***\n",
    "        - **`edge_set`**: the edge set of the graph\n",
    "        - **`vertex_set`**: the vertex set of the graph\n",
    "    - ***Methods***\n",
    "        - **`add_edge(e)`**: adds edge e to the edge set and its endoints to the vertex set.\n",
    "        - **`spans(H)`**: checks if H is a spanning subgraph\n",
    "        - **`draw_graph()`**: draws the graph\n",
    "        - **`draw_subgraph(H)`**: draws the graph with the subgraph H highlighted    \n",
    "        \n",
    "\n",
    "\n",
    "4.  `Weighted_Graph` also has a the following method\n",
    "    - **`edge_dict`** : A dictionary assigning weights to edges (the keys are edges and the values are weights\n",
    "\n",
    "\n",
    "Below, a graph `G` has been initialized.  Draw the graph."
   ]
  },
  {
   "cell_type": "code",
   "execution_count": null,
   "metadata": {},
   "outputs": [],
   "source": [
    "G = Graph('test2.txt')\n",
    "\n"
   ]
  },
  {
   "cell_type": "markdown",
   "metadata": {},
   "source": [
    "Now, create a new weighted graph object `W` from the file `test1.txt`.  Then create another graph `H` (which is a subgraph of the first) from the file `test1sub.txt` and use the `draw_subgraph` method to draw the graphs of `W` with `H` highlighted on it."
   ]
  },
  {
   "cell_type": "code",
   "execution_count": null,
   "metadata": {},
   "outputs": [],
   "source": [
    "\n"
   ]
  }
 ],
 "metadata": {
  "kernelspec": {
   "display_name": "Python 3",
   "language": "python",
   "name": "python3"
  },
  "language_info": {
   "codemirror_mode": {
    "name": "ipython",
    "version": 3
   },
   "file_extension": ".py",
   "mimetype": "text/x-python",
   "name": "python",
   "nbconvert_exporter": "python",
   "pygments_lexer": "ipython3",
   "version": "3.7.1"
  }
 },
 "nbformat": 4,
 "nbformat_minor": 2
}
