{
 "cells": [
  {
   "cell_type": "markdown",
   "metadata": {},
   "source": [
    "# Object Oriented Programming "
   ]
  },
  {
   "cell_type": "markdown",
   "metadata": {},
   "source": [
    "## 1.  What we have been doing so far: Procedural Programming."
   ]
  },
  {
   "cell_type": "markdown",
   "metadata": {},
   "source": [
    "Suppose we're writing a program where we are working with information about people.  For simplicity, let's assume we're keeping track of each person's first and last name.  \n",
    "\n",
    "Based on what we've been doing so far, we have a few options.  Perhaps we could keep track of the information in a tuple."
   ]
  },
  {
   "cell_type": "code",
   "execution_count": null,
   "metadata": {
    "collapsed": true
   },
   "outputs": [],
   "source": [
    "Abbott = \n",
    "Davila = \n",
    "Nakamura = \n",
    "\n",
    "Abbott"
   ]
  },
  {
   "cell_type": "markdown",
   "metadata": {},
   "source": [
    "But now what if we want to add another piece of information, perhaps hair color?  We can't because tuples are immutable.  So maybe a list would be a better data structure."
   ]
  },
  {
   "cell_type": "code",
   "execution_count": null,
   "metadata": {
    "collapsed": true
   },
   "outputs": [],
   "source": [
    "Abbott = \n",
    "Davila = \n",
    "Nakamura = \n",
    "\n"
   ]
  },
  {
   "cell_type": "markdown",
   "metadata": {},
   "source": [
    "This is better, but what if we had a long list of attributes and we wanted to access the hair color, or eye color, or shoe size?  We have to keep track of what entry holds each attribute and we have ensure that we don't store the information in the wrong location.\n",
    "\n",
    "A further improvement might be to use a dictionary so that we can use the names of the attributes as keys."
   ]
  },
  {
   "cell_type": "code",
   "execution_count": null,
   "metadata": {
    "collapsed": true
   },
   "outputs": [],
   "source": [
    "Abbott = \n",
    "Davila = \n",
    "Nakamura =\n",
    "\n"
   ]
  },
  {
   "cell_type": "markdown",
   "metadata": {},
   "source": [
    "But there is still another limitation; we can't ask one of these people to do much beyond telling us the value of an attribute. So we have to begin writing more functions to make the people do things. \n",
    "\n",
    "The point is that we are working under some significant limitations when we only use the basic data structures."
   ]
  },
  {
   "cell_type": "markdown",
   "metadata": {},
   "source": [
    "## 2. A better way: Objects"
   ]
  },
  {
   "cell_type": "markdown",
   "metadata": {},
   "source": [
    "The solution to these limitations is through objects.  We want to be able to create a 'Person' object that has attributes (like `last_name`,`first_name`, and `hair_color`) and can perform tasks (like giving its full name).\n",
    "\n",
    "The template for such an object is called a **class**.  The `Person` class might look something like this."
   ]
  },
  {
   "cell_type": "code",
   "execution_count": null,
   "metadata": {
    "collapsed": true
   },
   "outputs": [],
   "source": [
    "class Person:\n",
    "    \n",
    "    def __init__(self,first,last):\n",
    "        self.first_name = first\n",
    "        self.last_name = last"
   ]
  },
  {
   "cell_type": "markdown",
   "metadata": {},
   "source": [
    "This class contains two types of structures.\n",
    "- The function `__init__` is called a **method.**\n",
    "- The variables `self.first_name` and `self.last_name` are called **instance variables**\n",
    "\n",
    "The `__init__` method is special type of function called a **constructor**.  It defines how a particular **instance** of the class `Person` is created.  In this case, two arguments are needed *first name* and *last name*."
   ]
  },
  {
   "cell_type": "code",
   "execution_count": null,
   "metadata": {
    "collapsed": true
   },
   "outputs": [],
   "source": [
    "Abbott = \n",
    "Davila = \n",
    "Nakamura = \n",
    "\n"
   ]
  },
  {
   "cell_type": "markdown",
   "metadata": {},
   "source": [
    "But what about the `self` parameter?  The first entry in any method in any class is a reference to the instance, the variable name `self` is customarily used.  This parameter is ignored when calling the method."
   ]
  },
  {
   "cell_type": "markdown",
   "metadata": {},
   "source": [
    "If we want a person to be able to give its full name, we can add a method to the person class to do this."
   ]
  },
  {
   "cell_type": "code",
   "execution_count": null,
   "metadata": {
    "collapsed": true
   },
   "outputs": [],
   "source": [
    "class Person:\n",
    "    \n",
    "    def __init__(self,first,last):\n",
    "        self.first_name = first\n",
    "        self.last_name = last\n",
    "    \n",
    "    ###\n",
    "        "
   ]
  },
  {
   "cell_type": "code",
   "execution_count": null,
   "metadata": {
    "collapsed": true
   },
   "outputs": [],
   "source": [
    "Abbott = \n",
    "Davila = \n",
    "Nakamura = \n",
    "\n"
   ]
  },
  {
   "cell_type": "markdown",
   "metadata": {},
   "source": [
    "It may happen that you need to define an attribute that is the same for all instances of the class.  For example, biologically, every person belongs to the species *homo sapiens*.  We would incorporate that into the class as follows."
   ]
  },
  {
   "cell_type": "code",
   "execution_count": null,
   "metadata": {
    "collapsed": true
   },
   "outputs": [],
   "source": [
    "class Person:\n",
    "    \n",
    "    ###\n",
    "    \n",
    "    def __init__(self,first,last):\n",
    "        self.first_name = first\n",
    "        self.last_name = last\n",
    "    \n",
    "    def full_name(self):\n",
    "        return self.last_name + \", \" + self.first_name\n",
    "        "
   ]
  },
  {
   "cell_type": "code",
   "execution_count": null,
   "metadata": {
    "collapsed": true
   },
   "outputs": [],
   "source": [
    "Abbott = \n",
    "Davila = \n",
    "Nakamura = \n",
    "\n"
   ]
  },
  {
   "cell_type": "markdown",
   "metadata": {},
   "source": [
    "We can update a class variable at the instance level..."
   ]
  },
  {
   "cell_type": "code",
   "execution_count": null,
   "metadata": {
    "collapsed": true,
    "scrolled": true
   },
   "outputs": [],
   "source": []
  },
  {
   "cell_type": "markdown",
   "metadata": {},
   "source": [
    "Or at the class level."
   ]
  },
  {
   "cell_type": "code",
   "execution_count": null,
   "metadata": {
    "collapsed": true
   },
   "outputs": [],
   "source": []
  },
  {
   "cell_type": "markdown",
   "metadata": {},
   "source": [
    "Notice that an update at the instance level takes precedence over a change at the class level."
   ]
  },
  {
   "cell_type": "markdown",
   "metadata": {},
   "source": [
    "## 3.  Subclasses"
   ]
  },
  {
   "cell_type": "markdown",
   "metadata": {},
   "source": [
    "So we have a class to define a generic `Person`, but suppose that we want to focus on the specific instances of `Person` who are faculty at UHD.  We want a specialized class is still a `Person` but has extra attributes (or perhaps redefines some attributes).  \n",
    "\n",
    "We will create a **subclass** of the class `Person`."
   ]
  },
  {
   "cell_type": "code",
   "execution_count": null,
   "metadata": {
    "collapsed": true
   },
   "outputs": [],
   "source": [
    "class UHD_Faculty(Person):\n",
    "    \n",
    "    def __init__(self,first,last,position,dept):\n",
    "        \n",
    "        Person.__init__(self,first,last)\n",
    "        self.position = position\n",
    "        self.department = dept\n",
    "        self.current_courses = []\n",
    "    \n",
    "    def add_course(self,course):\n",
    "        self.current_courses.append(course)\n",
    "    "
   ]
  },
  {
   "cell_type": "code",
   "execution_count": null,
   "metadata": {
    "collapsed": true
   },
   "outputs": [],
   "source": [
    "Abbott_faculty = \n",
    "Abbott_faculty.first_name"
   ]
  },
  {
   "cell_type": "markdown",
   "metadata": {},
   "source": [
    "Notice that `first_name` was not defined in `UHD_Faculty`; instead it was **inherited** from its **parent class**, `Person`.  The method `full_name` was also inherited."
   ]
  },
  {
   "cell_type": "code",
   "execution_count": null,
   "metadata": {
    "collapsed": true
   },
   "outputs": [],
   "source": []
  },
  {
   "cell_type": "markdown",
   "metadata": {},
   "source": [
    "But we also add in new attributes and methods."
   ]
  },
  {
   "cell_type": "code",
   "execution_count": null,
   "metadata": {
    "collapsed": true
   },
   "outputs": [],
   "source": [
    "\n",
    "Abbott_faculty.current_courses"
   ]
  },
  {
   "cell_type": "markdown",
   "metadata": {},
   "source": [
    "## 4. Your Turn\n",
    "\n",
    "Below is a class called `Graph` that defines a graph object.  Below that, is a class called `Weighted_Graph` that is a sublass of `Graph`."
   ]
  },
  {
   "cell_type": "code",
   "execution_count": null,
   "metadata": {
    "collapsed": true
   },
   "outputs": [],
   "source": [
    "# this block imports packages needed by the Graph and Weighted_Graph classes.  \n",
    "# Just run it.\n",
    "import numpy as np\n",
    "import networkx as nx\n",
    "%matplotlib inline\n",
    "import matplotlib.pyplot as plt\n"
   ]
  },
  {
   "cell_type": "code",
   "execution_count": null,
   "metadata": {
    "collapsed": true
   },
   "outputs": [],
   "source": [
    "class Graph(object):\n",
    "    \n",
    "    def __init__(self, *args):\n",
    " \n",
    "        self.edge_list_file = ''\n",
    "        self.edge_set = set()\n",
    "        self.vertex_set = set()\n",
    "\n",
    "        # 1 or 2 arguments may be passed.\n",
    "        # if 1, it can either be a edge list file or an edge set\n",
    "        if(len(args)==1):\n",
    "            # if the argument is a string, read the edges from the file\n",
    "            if(type(args[0]) is str):\n",
    "                self.edge_list_file = args[0]\n",
    "                self.edge_set = self.set_edges_from_file()\n",
    "                self.update_vertices()\n",
    "            \n",
    "            # if the argument is a set, set the edge_set and create a \n",
    "            # vertex set from the endpoints of the edges+\n",
    "            elif(type(args[0]) is set):\n",
    "                self.edge_set = args[0]\n",
    "                self.update_vertices()\n",
    "\n",
    "        # if 2 arguments are passed, the first should be the vertex set\n",
    "        # and the second the edge_set\n",
    "        elif(len(args)==2):\n",
    "            self.vertex_set = args[0]\n",
    "            self.edge_set = args[1]\n",
    "    \n",
    "    def set_edges_from_file(self):\n",
    "        \"\"\" Returns the set of edges \"\"\"\n",
    "        edge_set = set()\n",
    "        edge_list = np.loadtxt(self.edge_list_file, int)   # numpy 2-d array\n",
    "        for row in edge_list:\n",
    "            e = (row[0],row[1])\n",
    "            edge_set.add(e)     # Assign keys and values\n",
    "        return edge_set\n",
    "        \n",
    "    \n",
    "    def update_vertices(self):\n",
    "        \"\"\" Returns the set of vertices \"\"\"\n",
    "        for e in self.edge_set:\n",
    "            self.vertex_set = self.vertex_set.union(e)\n",
    "   \n",
    "    def add_edge(self,e):\n",
    "        \"\"\" Add an edge to the graph \"\"\"\n",
    "        self.edge_set.add(e)\n",
    "        self.update_vertices()\n",
    "    \n",
    "    def copy(self):\n",
    "        \"\"\" Make a copy of the graph \"\"\"\n",
    "        edges = self.edge_set.copy()\n",
    "        vertices = self.vertex_set.copy()\n",
    "        return Graph(vertices, edges)\n",
    "    \n",
    "    def is_tree(self):\n",
    "        \"\"\" Return True if the graph is a tree, False otherwise based on the |V|=|E|+1 criterion\"\"\"\n",
    "        return len(self.vertex_set) == len(self.edge_set) + 1\n",
    "    \n",
    "    def spans(self,H):\n",
    "        \"\"\" Return True if self spans the graph H , False otherwise \"\"\"\n",
    "        return self.vertex_set == H.vertex_set\n",
    "    \n",
    "    def draw_graph(self):\n",
    "        \"\"\" This function is used to visualize your weighted graph. The functions\n",
    "            used inside are from the networkx library. \"\"\"\n",
    "        \n",
    "        G = nx.Graph()\n",
    "        G.add_nodes_from(self.vertex_set)\n",
    "        G.add_edges_from(self.edge_set)\n",
    "        pos=nx.spring_layout(G) # positions for all nodes\n",
    "        nx.draw_networkx_nodes(G,pos,node_size=250) # nodes\n",
    "        nx.draw_networkx_edges(G,pos,edgelist=G.edges(),width=1) # edges\n",
    "        nx.draw_networkx_labels(G,pos,font_size=10,font_family='sans-serif')\n",
    "        plt.axis('off')\n",
    "        plt.show()\n",
    "        \n",
    "    def draw_subgraph(self, H):\n",
    "        \"\"\" This function is used to visualize your weighted graph. The functions\n",
    "            used inside are from the networkx library. \"\"\"\n",
    "        \n",
    "        G = nx.Graph()\n",
    "        G.add_nodes_from(self.vertex_set)\n",
    "        G.add_edges_from(self.edge_set)\n",
    "\n",
    "        S = nx.Graph()\n",
    "        S.add_nodes_from(H.vertex_set)\n",
    "        S.add_edges_from(H.edge_set)\n",
    "\n",
    "\n",
    "        pos=nx.spring_layout(G) # positions for all nodes\n",
    "        nx.draw_networkx_nodes(G,pos,node_size=250) # nodes\n",
    "        nx.draw_networkx_nodes(G,pos, nodelist = S.nodes(),node_size=400)\n",
    "        nx.draw_networkx_edges(G,pos,edgelist=G.edges(),width=1) # edges\n",
    "        nx.draw_networkx_edges(G,pos,edgelist=S.edges(), color = 'red' ,width=5)\n",
    "        \n",
    "        # labels\n",
    "        nx.draw_networkx_labels(G,pos,font_size=10,font_family='sans-serif')\n",
    "        plt.axis('off')\n",
    "        plt.show()\n",
    "        \n",
    "        \n"
   ]
  },
  {
   "cell_type": "code",
   "execution_count": null,
   "metadata": {
    "collapsed": true
   },
   "outputs": [],
   "source": [
    "class Weighted_Graph(Graph):\n",
    "    \n",
    "    def __init__(self, *args):\n",
    "        \n",
    "        self.edge_list_file = ''\n",
    "        self.edge_dict = {}\n",
    "        self.edge_set = set()\n",
    "        self.vertex_set = set()\n",
    "        \n",
    "        # 1 or 2 arguments may be passed.\n",
    "        # if 1, it can either be a edge list file or an edge dictionary\n",
    "        if(len(args)==1):\n",
    "            # if the argument is a string, read the edges from the file\n",
    "            if(type(args[0]) is str):\n",
    "                self.edge_list_file = args[0]\n",
    "                self.edge_dict = self.set_edge_dict_from_file()\n",
    "                self.edge_set = set()\n",
    "                self.update_edges()\n",
    "                self.vertex_set = set()\n",
    "                self.update_vertices()\n",
    "            \n",
    "            # if the argument is a dictionary, set the edge dictionary and create a \n",
    "            # edge set from the dictionary and a vertex set from the edge set.\n",
    "            elif(type(args[0]) is dict):\n",
    "                self.edge_dict = args[0]\n",
    "                self.edge_set = set()\n",
    "                self.update_edges()\n",
    "                self.vertex_set = set()\n",
    "                self.update_vertices()\n",
    "\n",
    "        # if 2 arguments are passed, the first should be the vertex set\n",
    "        # and the second the edge dictionary\n",
    "        elif(len(args)==2):\n",
    "            self.vertex_set = args[0]\n",
    "            self.edge_dict = args[1]\n",
    "            self.edge_set = set()\n",
    "            self.update_edges()\n",
    "\n",
    "            \n",
    "    def set_edge_dict_from_file(self):\n",
    "        \"\"\" Reads in the edge list from the provided directory address and \n",
    "            creates a edge dictionary where the keys are the edges and values\n",
    "            are the corresponding edge weights. In particular, to access the\n",
    "            value of edge (a,b), simply type edge_dict[(a,b)]\"\"\"\n",
    "        edge_dict = dict()                                 # dict()=empty dictionary\n",
    "        edge_list = np.loadtxt(self.edge_list_file, int)   # numpy 2-d array\n",
    "        for row in edge_list:\n",
    "            edge_dict[(row[0], row[1])] = row[2]           # Assign keys and values\n",
    "        return edge_dict\n",
    "    \n",
    "    \n",
    "    def update_edges(self):\n",
    "        \"\"\" Returns the set of edges \"\"\"\n",
    "        self.edge_set = set(self.edge_dict.keys())\n",
    "        \n",
    "    def copy(self):\n",
    "        \"\"\" Make a copy of the graph \"\"\"\n",
    "        \n",
    "        # if the edge list file has been defined, create the new graph from that\n",
    "        if(self.edge_list_file):\n",
    "            return Weighted_Graph(self.edge_list_file)\n",
    "        # otherwise create the graph from the edge_dict and vertex_set\n",
    "        else:\n",
    "            edge_dict = self.edge_dict.copy()\n",
    "            vertices = self.vertex_set.copy()\n",
    "            return Weighted_Graph(vertices, edge_dict)\n",
    "        \n",
    " \n",
    "    def add_edge(self,e,w):\n",
    "        \"\"\" add an edge with a weight \"\"\"\n",
    "        self.edge_dict[e] = w\n",
    "        self.update_edges()\n",
    "        self.update_vertices()\n",
    "    \n",
    "    def draw_graph(self):\n",
    "        \"\"\" This function is used to visualize your weighted graph. The functions\n",
    "            used inside are from the networkx library. \"\"\"\n",
    "        \n",
    "        G = nx.read_edgelist(self.edge_list_file, nodetype=int, data=(('weight',float),))\n",
    "        e=[(u,v) for (u,v,d) in G.edges(data=True)]\n",
    "        pos=nx.spring_layout(G) # positions for all nodes\n",
    "        nx.draw_networkx_nodes(G,pos,node_size=250) # nodes\n",
    "        nx.draw_networkx_edges(G,pos,edgelist=e,width=1) # edges\n",
    "\n",
    "        # labels\n",
    "        labels = nx.get_edge_attributes(G,'weight')\n",
    "        nx.draw_networkx_labels(G,pos,font_size=10,font_family='sans-serif')\n",
    "        nx.draw_networkx_edge_labels(G,pos,edge_labels=labels)\n",
    "        plt.axis('off')\n",
    "        plt.show()\n",
    "        \n",
    "    def draw_subgraph(self, H):\n",
    "        \"\"\" This function is used to visualize your weighted graph. The functions\n",
    "            used inside are from the networkx library. \"\"\"\n",
    "        \n",
    "        G = nx.read_edgelist(self.edge_list_file, nodetype=int, data=(('weight',float),))\n",
    "        e1=[(u,v) for (u,v,d) in G.edges(data=True)]\n",
    "        e2= [e for e in e1 if e in H.edge_set]\n",
    "        v1 =[v for v in H.vertex_set]\n",
    "        pos=nx.spring_layout(G) # positions for all nodes\n",
    "        nx.draw_networkx_nodes(G,pos,node_size=250) # nodes\n",
    "        nx.draw_networkx_nodes(G,pos, nodelist = v1,node_size=400)\n",
    "        nx.draw_networkx_edges(G,pos,edgelist=e1,width=1) # edges\n",
    "        nx.draw_networkx_edges(G,pos,edgelist=e2, color = 'red' ,width=5)\n",
    "        \n",
    "        # labels\n",
    "        labels = nx.get_edge_attributes(G,'weight')\n",
    "        nx.draw_networkx_labels(G,pos,font_size=10,font_family='sans-serif')\n",
    "        nx.draw_networkx_edge_labels(G,pos,edge_labels=labels)\n",
    "        plt.axis('off')\n",
    "        plt.show()\n"
   ]
  },
  {
   "cell_type": "markdown",
   "metadata": {},
   "source": [
    "Below, a graph `G` has been initialized.  Draw the graph."
   ]
  },
  {
   "cell_type": "code",
   "execution_count": null,
   "metadata": {
    "collapsed": true
   },
   "outputs": [],
   "source": [
    "G = Graph('test2.txt')\n"
   ]
  },
  {
   "cell_type": "markdown",
   "metadata": {},
   "source": [
    "Now, create a new weighted graph object `W` from the file `test1.txt`.  Then create another graph `H` (which is a subgraph of the first) from the file `test1sub.txt` and use the `draw_subgraph` method to draw the graphs of `W` with `H` highlighted on it."
   ]
  },
  {
   "cell_type": "code",
   "execution_count": null,
   "metadata": {
    "collapsed": true
   },
   "outputs": [],
   "source": [
    "\n"
   ]
  }
 ],
 "metadata": {
  "kernelspec": {
   "display_name": "Python 3",
   "language": "python",
   "name": "python3"
  },
  "language_info": {
   "codemirror_mode": {
    "name": "ipython",
    "version": 3
   },
   "file_extension": ".py",
   "mimetype": "text/x-python",
   "name": "python",
   "nbconvert_exporter": "python",
   "pygments_lexer": "ipython3",
   "version": "3.6.3"
  }
 },
 "nbformat": 4,
 "nbformat_minor": 2
}
