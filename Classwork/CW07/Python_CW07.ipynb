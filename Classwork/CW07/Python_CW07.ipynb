{
 "cells": [
  {
   "cell_type": "markdown",
   "metadata": {},
   "source": [
    "# Dictionaries"
   ]
  },
  {
   "cell_type": "markdown",
   "metadata": {},
   "source": [
    "### There are two primary ways that mathematical functions are manifested in python\n",
    "1. Python functions\n",
    "2. Dictionaries \n",
    "\n",
    "We will focus on dictionaries today and discuss functions in Python next time.\n",
    "\n",
    "We have seen that a sequence (be it a list, tuple, or range) is indexed by integers.  Often we interact with these sequences as functions.  For example, we can provide the list `A` an index as input, and we will receive the value at that index as output."
   ]
  },
  {
   "cell_type": "code",
   "execution_count": null,
   "metadata": {},
   "outputs": [],
   "source": [
    "A = "
   ]
  },
  {
   "cell_type": "markdown",
   "metadata": {},
   "source": [
    "The domain in this case is the set of valid indices (namely `0 ... len(A)-1`) and the range of the function is the set of entries in the list (in this case `a, b, c`).\n",
    "\n",
    "\n",
    "Recall from class that we looked at a function that assigned a grade to each of 5 students.\n",
    "\n",
    "|Name | Grade|\n",
    "|-----|------|\n",
    "|Adams | A|\n",
    "|Chou | C|\n",
    "|Goodfriend | B|\n",
    "|Rodriguez | A|\n",
    "|Stevens | F|\n",
    "\n",
    "One way we could store this data in Python would be to create two lists: one for Names and the other for Grades, ordered so that the corresponding names and grades had the same index."
   ]
  },
  {
   "cell_type": "code",
   "execution_count": null,
   "metadata": {
    "collapsed": true
   },
   "outputs": [],
   "source": [
    "Names = \n",
    "Grades = "
   ]
  },
  {
   "cell_type": "markdown",
   "metadata": {},
   "source": [
    "Now if I want to access the grade for a specific student (for example 'Goodfriend') I have to do one of two things.\n",
    "1. know beforehand the index of 'Goodfriend' in the `Names` list and return the grade at that index."
   ]
  },
  {
   "cell_type": "code",
   "execution_count": null,
   "metadata": {},
   "outputs": [],
   "source": []
  },
  {
   "cell_type": "markdown",
   "metadata": {},
   "source": [
    "or \n",
    "2. look up the index of 'Goodfriend' in the `Names` list and then find the corresponding grade."
   ]
  },
  {
   "cell_type": "code",
   "execution_count": null,
   "metadata": {},
   "outputs": [],
   "source": [
    "Grades[Names.index('Goodfriend')]"
   ]
  },
  {
   "cell_type": "markdown",
   "metadata": {},
   "source": [
    "In any case, keeping track of indices is a little cubersome.  A better data structure to use is a dictionary (more generically called associative array or map).  \n",
    "\n",
    "Essentially, a dictionary is similar to a list except that rather than indexing with the integers `0 ... len(A)-1` as with a list, you index using any set of objects you wish (called **keys**).  This enables you to look up a particular **value** using its **key**.\n"
   ]
  },
  {
   "cell_type": "code",
   "execution_count": null,
   "metadata": {
    "scrolled": true
   },
   "outputs": [],
   "source": [
    "grade_dict = \n",
    "grade_dict"
   ]
  },
  {
   "cell_type": "code",
   "execution_count": null,
   "metadata": {},
   "outputs": [],
   "source": []
  },
  {
   "cell_type": "markdown",
   "metadata": {},
   "source": [
    "Of course, most of the time you would not define a dictionary explicitly in this way.  We can start with an empty dictionary (defined using `{}`) and then add key/value pairs.  \n",
    "\n",
    "Let's combine the `Names` and `Grades` lists into a single dictionary."
   ]
  },
  {
   "cell_type": "code",
   "execution_count": null,
   "metadata": {},
   "outputs": [],
   "source": []
  },
  {
   "cell_type": "markdown",
   "metadata": {},
   "source": [
    "Now if we want to know what grade Chou received, we can just ask the dictionary `gradeDict2` for it."
   ]
  },
  {
   "cell_type": "code",
   "execution_count": null,
   "metadata": {
    "scrolled": true
   },
   "outputs": [],
   "source": []
  },
  {
   "cell_type": "markdown",
   "metadata": {},
   "source": [
    "Notice that the dictionary behaves like a mathematical function.  It maps a key (in our example a name) to a value (in our example, a grade).  The domain is the set of all keys in the dictionary, which can be accessed using the `keys()` method."
   ]
  },
  {
   "cell_type": "code",
   "execution_count": null,
   "metadata": {},
   "outputs": [],
   "source": []
  },
  {
   "cell_type": "markdown",
   "metadata": {},
   "source": [
    "The range is the set of all values in the dictionary which can be accessed using the `values()` method."
   ]
  },
  {
   "cell_type": "code",
   "execution_count": null,
   "metadata": {
    "scrolled": true
   },
   "outputs": [],
   "source": []
  },
  {
   "cell_type": "markdown",
   "metadata": {},
   "source": [
    "##  An application"
   ]
  },
  {
   "cell_type": "markdown",
   "metadata": {},
   "source": [
    "Recall that the function below will read a csv file and return the contents as a list of tuples."
   ]
  },
  {
   "cell_type": "code",
   "execution_count": null,
   "metadata": {
    "collapsed": true
   },
   "outputs": [],
   "source": [
    "# This function reads a CSV file and stores it as a list of tuples.  \n",
    "# Do not change this code block.  Just run it.  \n",
    "\n",
    "import csv\n",
    "\n",
    "def readCSV(file):\n",
    "    fh = open(file,'r')                                  # open file for reading\n",
    "    data = csv.reader(fh,delimiter=',',quotechar='\"')    # create a csv reader.  this is needed because some titles\n",
    "                                                         # contain commas\n",
    "\n",
    "    contents = []                                        # create an empty list in which to store the data \n",
    "    count = 0\n",
    "    for line in data:                                    # process each line of the file\n",
    "        count += 1\n",
    "        if(count==1):                                    # skip the first line which contains column headers\n",
    "            continue\n",
    "        lineData = tuple(line)                           # store the data as a tuple (for consistency with the previous example)\n",
    "        contents.append(lineData)                        # add the tuple of data to the topMovies list.\n",
    "\n",
    "    return contents\n"
   ]
  },
  {
   "cell_type": "markdown",
   "metadata": {},
   "source": [
    "The file `more_ice_cream.csv` contains data about ice cream purchased in a particular area.  Each row contains the flavor, color, and price of the ice cream. Use the function above to read the data and store it in a list called `iceCreamData`.\n",
    "\n",
    "From the `iceCreamData` list, create a dictionary that contains the total amount spent on each flavor. "
   ]
  },
  {
   "cell_type": "code",
   "execution_count": null,
   "metadata": {
    "scrolled": true
   },
   "outputs": [],
   "source": [
    "import pprint \n",
    "pp = pprint.PrettyPrinter()\n",
    "\n"
   ]
  },
  {
   "cell_type": "markdown",
   "metadata": {},
   "source": [
    "## Your Turn"
   ]
  },
  {
   "cell_type": "markdown",
   "metadata": {},
   "source": [
    "The file `top_movies.csv` contains information about the 200 highest grossing films (unadjusted). Each line contains a Title, Studio, Gross, Adjusted Gross, and Year.\n",
    "\n",
    "Use the `readCSV` function to read the data, then create a dictionary that contains the number of times each studio appears on the list."
   ]
  },
  {
   "cell_type": "code",
   "execution_count": null,
   "metadata": {},
   "outputs": [],
   "source": [
    "# Use the readCSV function above to complete this exercise.\n",
    "\n"
   ]
  }
 ],
 "metadata": {
  "kernelspec": {
   "display_name": "Python 3",
   "language": "python",
   "name": "python3"
  },
  "language_info": {
   "codemirror_mode": {
    "name": "ipython",
    "version": 3
   },
   "file_extension": ".py",
   "mimetype": "text/x-python",
   "name": "python",
   "nbconvert_exporter": "python",
   "pygments_lexer": "ipython3",
   "version": "3.6.3"
  }
 },
 "nbformat": 4,
 "nbformat_minor": 2
}
