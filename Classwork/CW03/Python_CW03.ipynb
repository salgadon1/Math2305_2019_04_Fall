{
 "cells": [
  {
   "cell_type": "markdown",
   "metadata": {},
   "source": [
    "## 1.  The 'If' statement"
   ]
  },
  {
   "cell_type": "markdown",
   "metadata": {},
   "source": [
    "Sometimes we will want to execute a block of code if some condition is met.  This is done using an <span style = \"font-family:Courier New\">if</span> statement."
   ]
  },
  {
   "cell_type": "code",
   "execution_count": null,
   "metadata": {
    "scrolled": true
   },
   "outputs": [],
   "source": []
  },
  {
   "cell_type": "markdown",
   "metadata": {},
   "source": [
    "We can also provide alternate code to be executed if the condition is not satisfied.  This is done using the <span style = \"font-family:Courier New\">else</span> command.  <span style = \"font-family:Courier New\">else</span> is optional, but when used, it should always be paired with an <span style = \"font-family:Courier New\">if</span>"
   ]
  },
  {
   "cell_type": "code",
   "execution_count": null,
   "metadata": {},
   "outputs": [],
   "source": []
  },
  {
   "cell_type": "markdown",
   "metadata": {},
   "source": [
    "You can test a sequence of conditions and execute specific code for each case by using the <span style = \"font-family:Courier New\">elif</span> command.  (short for <span style = \"font-family:Courier New\">else</span> <span style = \"font-family:Courier New\">if</span>)"
   ]
  },
  {
   "cell_type": "code",
   "execution_count": null,
   "metadata": {},
   "outputs": [],
   "source": []
  },
  {
   "cell_type": "markdown",
   "metadata": {},
   "source": [
    "## 2. Exiting a 'for' loop"
   ]
  },
  {
   "cell_type": "markdown",
   "metadata": {},
   "source": [
    "Frequently, we will want to exit a loop before it completes. This can be done using the <span style = \"font-family:Courier New\">break</span> command.  Typically an <span style = \"font-family:Courier New\">if</span> statement is used to decide when to exit the loop."
   ]
  },
  {
   "cell_type": "code",
   "execution_count": null,
   "metadata": {},
   "outputs": [],
   "source": []
  },
  {
   "cell_type": "markdown",
   "metadata": {},
   "source": [
    "When working with nested loops, the <span style = \"font-family:Courier New\">break</span> command will only exit the innermost loop. "
   ]
  },
  {
   "cell_type": "code",
   "execution_count": null,
   "metadata": {},
   "outputs": [],
   "source": []
  },
  {
   "cell_type": "markdown",
   "metadata": {},
   "source": [
    "If you want to also exit a loop at a higher level of nesting, you would need to add another break statement."
   ]
  },
  {
   "cell_type": "code",
   "execution_count": null,
   "metadata": {
    "scrolled": true
   },
   "outputs": [],
   "source": []
  },
  {
   "cell_type": "markdown",
   "metadata": {},
   "source": [
    "## 3.  Your turn!"
   ]
  },
  {
   "cell_type": "markdown",
   "metadata": {},
   "source": [
    "Use for loops and break statement to determine if the two propositions are equivalent.  Your code should print the final determination.\n",
    "\n",
    "-  $s:\\ \\sim (\\sim p \\vee q)$\n",
    "-  $t:\\ \\sim p \\wedge q$\n",
    "\n",
    "Hint: two propositions are equivalent if they have the same truth values, so if you encounter differing truth values, you know the propositions are not equivalent and need go no further."
   ]
  },
  {
   "cell_type": "code",
   "execution_count": null,
   "metadata": {
    "collapsed": true
   },
   "outputs": [],
   "source": []
  }
 ],
 "metadata": {
  "@webio": {
   "lastCommId": "393cb57a9fed47d9887bca8c83b18efc",
   "lastKernelId": "e117818e-8554-4a92-9e51-0aca4b9383b7"
  },
  "kernelspec": {
   "display_name": "Python 3",
   "language": "python",
   "name": "python3"
  },
  "language_info": {
   "codemirror_mode": {
    "name": "ipython",
    "version": 3
   },
   "file_extension": ".py",
   "mimetype": "text/x-python",
   "name": "python",
   "nbconvert_exporter": "python",
   "pygments_lexer": "ipython3",
   "version": "3.7.0"
  }
 },
 "nbformat": 4,
 "nbformat_minor": 2
}
