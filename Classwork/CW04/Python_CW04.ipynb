{
 "cells": [
  {
   "cell_type": "markdown",
   "metadata": {},
   "source": [
    "## 1. The 'while' Loop"
   ]
  },
  {
   "cell_type": "markdown",
   "metadata": {},
   "source": [
    "### 1.1 Recall the 'for' loop"
   ]
  },
  {
   "cell_type": "markdown",
   "metadata": {},
   "source": [
    "Recall that the <b>for</b> loop iterates over the entries of a sequence."
   ]
  },
  {
   "cell_type": "code",
   "execution_count": null,
   "metadata": {},
   "outputs": [],
   "source": []
  },
  {
   "cell_type": "markdown",
   "metadata": {},
   "source": [
    "The <b>for</b> loop with step through the entire sequence unless a <b>break</b> statement is encountered."
   ]
  },
  {
   "cell_type": "code",
   "execution_count": null,
   "metadata": {},
   "outputs": [],
   "source": []
  },
  {
   "cell_type": "markdown",
   "metadata": {},
   "source": [
    "Last time, we used a <b>for</b> loop and a break statement to determine if two compound propositions are equivalent."
   ]
  },
  {
   "cell_type": "code",
   "execution_count": 4,
   "metadata": {},
   "outputs": [
    {
     "name": "stdout",
     "output_type": "stream",
     "text": [
      "\n",
      "s and t are not equivalent\n",
      "the truth values are different when p is  True and q is  False\n"
     ]
    }
   ],
   "source": [
    "for p in (True,False):\n",
    "    for q in (True,False):\n",
    "        s = not (not p or q)\n",
    "        t = not p and q\n",
    "        if(s!=t):\n",
    "            break\n",
    "    if(s!=t):\n",
    "        break\n",
    "\n",
    "print()\n",
    "    \n",
    "if(s==t):\n",
    "    print('s and t are equivalent')\n",
    "else:\n",
    "    print('s and t are not equivalent')\n",
    "    print('the truth values are different when p is ',p, 'and q is ',q)"
   ]
  },
  {
   "cell_type": "markdown",
   "metadata": {},
   "source": [
    "### 1.2 The 'while' loop"
   ]
  },
  {
   "cell_type": "markdown",
   "metadata": {},
   "source": [
    "We can do the same job with the need of a break statement using a <b>while</b> loop.  This type of loop executes a block of code repeatedly as long as (while) a condition is met. The trade-off is that you have to initialize variables and define expicitly any iteration you need to do."
   ]
  },
  {
   "cell_type": "code",
   "execution_count": 6,
   "metadata": {
    "scrolled": true
   },
   "outputs": [
    {
     "name": "stdout",
     "output_type": "stream",
     "text": [
      "0\n",
      "1\n",
      "2\n",
      "3\n",
      "4\n",
      "5\n"
     ]
    }
   ],
   "source": [
    "r = 0\n",
    "while(r<=5):\n",
    "    print(r)\n",
    "    r = r + 1"
   ]
  },
  {
   "cell_type": "markdown",
   "metadata": {},
   "source": [
    "Let's check if \n",
    "-  $s:\\ \\sim (\\sim p \\vee q)$\n",
    "-  $t:\\ \\sim p \\wedge q$\n",
    "\n",
    "are equivalent using a while loop now. The code below will do this and give a correct answer."
   ]
  },
  {
   "cell_type": "code",
   "execution_count": null,
   "metadata": {},
   "outputs": [],
   "source": []
  },
  {
   "cell_type": "markdown",
   "metadata": {},
   "source": [
    "If we use the same code to check if \n",
    "-  $s:\\ \\sim (p \\ \\vee \\sim q)$\n",
    "-  $t:\\ \\sim p \\wedge q$\n",
    "\n",
    "are equivalent, we encounter an error.  Why? One small change fixes it."
   ]
  },
  {
   "cell_type": "code",
   "execution_count": null,
   "metadata": {},
   "outputs": [],
   "source": []
  },
  {
   "cell_type": "markdown",
   "metadata": {},
   "source": [
    "## 2.  Your turn!"
   ]
  },
  {
   "cell_type": "markdown",
   "metadata": {},
   "source": [
    "Use a while loop to determine if the proposition $\\sim [q\\ \\wedge \\sim p]\\ \\wedge \\sim [p\\ \\wedge \\sim q]$ is satisfiable."
   ]
  },
  {
   "cell_type": "code",
   "execution_count": 13,
   "metadata": {},
   "outputs": [
    {
     "name": "stdout",
     "output_type": "stream",
     "text": [
      "s is not satisfiable\n"
     ]
    }
   ],
   "source": [
    "T"
   ]
  },
  {
   "cell_type": "code",
   "execution_count": null,
   "metadata": {
    "collapsed": true
   },
   "outputs": [],
   "source": []
  }
 ],
 "metadata": {
  "@webio": {
   "lastCommId": "314e522713b644338d43f3a24a969224",
   "lastKernelId": "3eaeab0f-6cff-4533-96aa-36cf5039dfff"
  },
  "kernelspec": {
   "display_name": "Python 3",
   "language": "python",
   "name": "python3"
  },
  "language_info": {
   "codemirror_mode": {
    "name": "ipython",
    "version": 3
   },
   "file_extension": ".py",
   "mimetype": "text/x-python",
   "name": "python",
   "nbconvert_exporter": "python",
   "pygments_lexer": "ipython3",
   "version": "3.6.3"
  }
 },
 "nbformat": 4,
 "nbformat_minor": 2
}
