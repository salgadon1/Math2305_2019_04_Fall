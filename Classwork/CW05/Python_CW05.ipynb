{
 "cells": [
  {
   "cell_type": "markdown",
   "metadata": {},
   "source": [
    "# Sets "
   ]
  },
  {
   "cell_type": "markdown",
   "metadata": {},
   "source": [
    "So far in this class we have learned about sequences (specifically tuples and lists) as ways to store multiple values in a single object.  These objects place the values in a certain order, and since each entry can be any value, repetitions are allowed. But what if we are only concerned with the distinct objects themselves and not about how many times or in what order they appear?   \n",
    "\n",
    "## 1. The Basics\n",
    "\n",
    "Python also has a `set` type that has the properties of a mathematical set: it is an unordered collection of distinct objects. Sets can be defined using the roster notation we learned in Section 2.1"
   ]
  },
  {
   "cell_type": "code",
   "execution_count": null,
   "metadata": {
    "collapsed": true
   },
   "outputs": [],
   "source": [
    "S = \n",
    "S"
   ]
  },
  {
   "cell_type": "code",
   "execution_count": null,
   "metadata": {
    "collapsed": true
   },
   "outputs": [],
   "source": []
  },
  {
   "cell_type": "markdown",
   "metadata": {},
   "source": [
    "Notice that repeated values only appear once in the set."
   ]
  },
  {
   "cell_type": "code",
   "execution_count": null,
   "metadata": {
    "collapsed": true
   },
   "outputs": [],
   "source": [
    "S = \n",
    "S"
   ]
  },
  {
   "cell_type": "markdown",
   "metadata": {},
   "source": [
    "Values can be added to a set using the `add()` method. Of course, if the value is already in the set, it will not be added again"
   ]
  },
  {
   "cell_type": "code",
   "execution_count": null,
   "metadata": {
    "collapsed": true
   },
   "outputs": [],
   "source": []
  },
  {
   "cell_type": "markdown",
   "metadata": {},
   "source": [
    "Suppose that we already have a list and want to turn it into as set because we only care about the distinct elements. We can do that as follows."
   ]
  },
  {
   "cell_type": "code",
   "execution_count": null,
   "metadata": {
    "collapsed": true
   },
   "outputs": [],
   "source": [
    "A = [1,2,3,3,3,4,1,2,4]\n"
   ]
  },
  {
   "cell_type": "markdown",
   "metadata": {},
   "source": [
    "Be careful, though.  An empty set cannot be created using roster notation. `{}` will create an empty dictionary, not an empty set. We will discuss dictionaries later in the course."
   ]
  },
  {
   "cell_type": "code",
   "execution_count": null,
   "metadata": {
    "collapsed": true
   },
   "outputs": [],
   "source": []
  },
  {
   "cell_type": "markdown",
   "metadata": {},
   "source": [
    "To create an empty set, you should use `set()`."
   ]
  },
  {
   "cell_type": "code",
   "execution_count": null,
   "metadata": {
    "collapsed": true
   },
   "outputs": [],
   "source": []
  },
  {
   "cell_type": "markdown",
   "metadata": {},
   "source": [
    "The `add` method will only add single values, however.  We will learn how to add multiple values next time."
   ]
  },
  {
   "cell_type": "code",
   "execution_count": null,
   "metadata": {
    "collapsed": true,
    "scrolled": true
   },
   "outputs": [],
   "source": []
  },
  {
   "cell_type": "code",
   "execution_count": null,
   "metadata": {
    "collapsed": true,
    "scrolled": false
   },
   "outputs": [],
   "source": []
  },
  {
   "cell_type": "markdown",
   "metadata": {},
   "source": [
    "## 2. An application."
   ]
  },
  {
   "cell_type": "markdown",
   "metadata": {},
   "source": [
    "The file `more_ice_cream.csv` contains data about ice cream purchased in a particular area.  Each row contains the flavor, color, and price of the ice cream. The code below reads the data and stores it in a list called `iceCreamData`.\n",
    "\n",
    "From the `iceCreamData` list, determine \n",
    "\n",
    "1. What distinct flavors appear in the list,\n",
    "2. What distinct colors appear in the list , and\n",
    "3. What distinct flavor/color combinations appear in the list.\n",
    "\n",
    "Store each of these in a set and print your results."
   ]
  },
  {
   "cell_type": "code",
   "execution_count": null,
   "metadata": {},
   "outputs": [],
   "source": [
    "# This part of the code reads the file and produes a list of tuples \n",
    "# containing the data.  Do not change it. Just run it.\n",
    "\n",
    "file = open('more_ice_cream.csv','r') # open the file\n",
    "data = file.read().split(\"\\n\")        # read the file as a string, split it into lines,\n",
    "                                      # and store the data in an list of strings\n",
    "    \n",
    "header = data.pop(0)                  # remove the header line and print it\n",
    "print(\"Entries:\",header)\n",
    "iceCreamData = []                     # initialize a list to store the data from the each line\n",
    "for line in data:                     \n",
    "    lineData = tuple(line.split(',')) # convert the line into a tuple\n",
    "    iceCreamData.append(lineData)     # add the tuple to the iceCreamData list.\n",
    "iceCreamData\n",
    "    \n"
   ]
  },
  {
   "cell_type": "code",
   "execution_count": null,
   "metadata": {
    "collapsed": true
   },
   "outputs": [],
   "source": []
  },
  {
   "cell_type": "markdown",
   "metadata": {},
   "source": [
    "## 3. Your turn"
   ]
  },
  {
   "cell_type": "markdown",
   "metadata": {},
   "source": [
    "The file `top_movies.csv` contains information about the 200 highest grossing films (unadjusted). Each line contains a Title, Studio, Gross, Adjusted Gross, and Year.  The data is read into a list called `topMovies`"
   ]
  },
  {
   "cell_type": "code",
   "execution_count": null,
   "metadata": {},
   "outputs": [],
   "source": [
    "# This part of the code reads the file and produes a list of tuples \n",
    "# containing the data.  Do not change it. Just run it.\n",
    "import csv   \n",
    "\n",
    "file = open('top_movies.csv','r')                    # open file for reading\n",
    "data = csv.reader(file,delimiter=',',quotechar='\"')  # create a csv reader.  this is needed because some titles\n",
    "                                                     # contain commas\n",
    "                                               \n",
    "topMovies = []                                       # create an empty list in which to store the data \n",
    "count = 0\n",
    "for line in data:                                    # process each line of the file\n",
    "    count += 1\n",
    "    if(count==1):                                    # skip the first line which contains column headers\n",
    "        continue\n",
    "    lineData = tuple(line)                           # store the data as a tuple (for consistency with the previous example)\n",
    "    topMovies.append(lineData)                       # add the tuple of data to the topMovies list.\n",
    "    \n",
    "topMovies"
   ]
  },
  {
   "cell_type": "markdown",
   "metadata": {},
   "source": [
    "Determine what studios are on the list and also what years.  Store these in sets and print the results."
   ]
  },
  {
   "cell_type": "code",
   "execution_count": null,
   "metadata": {
    "collapsed": true
   },
   "outputs": [],
   "source": []
  }
 ],
 "metadata": {
  "kernelspec": {
   "display_name": "Python 3",
   "language": "python",
   "name": "python3"
  },
  "language_info": {
   "codemirror_mode": {
    "name": "ipython",
    "version": 3
   },
   "file_extension": ".py",
   "mimetype": "text/x-python",
   "name": "python",
   "nbconvert_exporter": "python",
   "pygments_lexer": "ipython3",
   "version": "3.7.1"
  }
 },
 "nbformat": 4,
 "nbformat_minor": 2
}
