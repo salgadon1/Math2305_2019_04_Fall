{
 "cells": [
  {
   "cell_type": "markdown",
   "metadata": {},
   "source": [
    "# Set Operations"
   ]
  },
  {
   "cell_type": "markdown",
   "metadata": {},
   "source": [
    "All of the set operations that we have discussed in class are implemented in python 3 and can be viewed concisely [here](https://docs.python.org/2/library/sets.html#set-objects).\n",
    "\n",
    "For example, suppose $A$ is the set of all positive multiples of 6 less than 100, and suppose $B$ is the set of all multiples of 8 less than 100.  \n",
    "\n",
    "- What is the set of numbers between 0 and 100 are multiples of both?\n"
   ]
  },
  {
   "cell_type": "code",
   "execution_count": null,
   "metadata": {
    "collapsed": true
   },
   "outputs": [],
   "source": []
  },
  {
   "cell_type": "markdown",
   "metadata": {},
   "source": [
    "- What is the set of numbers that are multiples of 6 or 8?"
   ]
  },
  {
   "cell_type": "code",
   "execution_count": null,
   "metadata": {
    "collapsed": true,
    "scrolled": true
   },
   "outputs": [],
   "source": []
  },
  {
   "cell_type": "markdown",
   "metadata": {},
   "source": [
    "- What is the set of multiples of 8 that are not multiples of 6?"
   ]
  },
  {
   "cell_type": "code",
   "execution_count": null,
   "metadata": {
    "collapsed": true
   },
   "outputs": [],
   "source": []
  },
  {
   "cell_type": "code",
   "execution_count": null,
   "metadata": {
    "collapsed": true
   },
   "outputs": [],
   "source": []
  },
  {
   "cell_type": "markdown",
   "metadata": {},
   "source": [
    "In fact, the arguments to these method do not have to be sets.  "
   ]
  },
  {
   "cell_type": "code",
   "execution_count": null,
   "metadata": {
    "collapsed": true
   },
   "outputs": [],
   "source": []
  },
  {
   "cell_type": "code",
   "execution_count": null,
   "metadata": {
    "collapsed": true,
    "scrolled": true
   },
   "outputs": [],
   "source": []
  },
  {
   "cell_type": "markdown",
   "metadata": {},
   "source": [
    "## Your Turn"
   ]
  },
  {
   "cell_type": "markdown",
   "metadata": {},
   "source": [
    "The two files `top10gross.csv` and `top10adj` contain the top 10 movies by gross revenue and by gross revenue after adjusting for inflation (respectively, as of 2015).  Use the function `readCSV()` below to read each `csv` file into a list of tuples and then use set operations to \n",
    "1. determine which movies appear on both and\n",
    "2. generate a set of distinct movies which appear in the top 10 by gross but not by adjusted gross."
   ]
  },
  {
   "cell_type": "code",
   "execution_count": null,
   "metadata": {
    "collapsed": true
   },
   "outputs": [],
   "source": [
    "# This function reads a CSV file and stores it as a list of tuples.  \n",
    "# Do not change this code block.  Just run it.  \n",
    "\n",
    "import csv\n",
    "\n",
    "def readCSV(file):\n",
    "    fh = open(file,'r')                                  # open file for reading\n",
    "    data = csv.reader(fh,delimiter=',',quotechar='\"')    # create a csv reader.  this is needed because some titles\n",
    "                                                         # contain commas\n",
    "\n",
    "    contents = []                                        # create an empty list in which to store the data \n",
    "    count = 0\n",
    "    for line in data:                                    # process each line of the file\n",
    "        count += 1\n",
    "        if(count==1):                                    # skip the first line which contains column headers\n",
    "            continue\n",
    "        lineData = tuple(line)                           # store the data as a tuple (for consistency with the previous example)\n",
    "        contents.append(lineData)                        # add the tuple of data to the topMovies list.\n",
    "\n",
    "    return contents\n"
   ]
  },
  {
   "cell_type": "code",
   "execution_count": null,
   "metadata": {
    "collapsed": true
   },
   "outputs": [],
   "source": [
    "# Use the readCSV function above to complete exercise.\n",
    "    \n",
    "    "
   ]
  }
 ],
 "metadata": {
  "kernelspec": {
   "display_name": "Python 3",
   "language": "python",
   "name": "python3"
  },
  "language_info": {
   "codemirror_mode": {
    "name": "ipython",
    "version": 3
   },
   "file_extension": ".py",
   "mimetype": "text/x-python",
   "name": "python",
   "nbconvert_exporter": "python",
   "pygments_lexer": "ipython3",
   "version": "3.6.3"
  }
 },
 "nbformat": 4,
 "nbformat_minor": 2
}
