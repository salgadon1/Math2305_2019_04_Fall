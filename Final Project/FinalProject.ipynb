{
 "cells": [
  {
   "cell_type": "markdown",
   "metadata": {},
   "source": [
    "# Final Project:  Implement Prim's Algorithm\n",
    "\n",
    "In this project, you will implement Prim's algorithm for finding a minimal-weight spanning tree for a weighted graph. This notebook will walk you through building the necessary functions.  \n",
    "\n",
    "#### Due Date\n",
    "The entire project will be due **Wednesday, May 8th at 11:59PM**.\n",
    "\n",
    "#### Partners\n",
    "You are encouraged to discuss the project within your group; however, each student must submit their own work.\n",
    "\n",
    "And now **on to the project!**"
   ]
  },
  {
   "cell_type": "code",
   "execution_count": null,
   "metadata": {
    "collapsed": true
   },
   "outputs": [],
   "source": [
    "# this block imports packages needed by the Graph and Weighted_Graph classes.  \n",
    "# Just run it.\n",
    "import numpy as np\n",
    "import networkx as nx\n",
    "%matplotlib inline\n",
    "import matplotlib.pyplot as plt\n",
    "from Graph import Graph\n",
    "from Weighted_Graph import Weighted_Graph\n"
   ]
  },
  {
   "cell_type": "markdown",
   "metadata": {},
   "source": [
    "### The `Graph` and `Weighted_Graph` classes\n",
    "The files `Graph.py` and `Weighted_Graph.py` contain the classes `Graph` and `Weighted_Graph` classes. You should open them in Spyder (or the editor of your choice) and familiarize yourself with the variables and methods (you do not need to understand all of the code, just what input and output the methods are).\n",
    "\n",
    "An instance of the `Graph` class is created by the command `Graph(<file>)` where `<file>` is the name of a file containing the edges and vertices for a specific graph.  The key variables and methods are.\n",
    "- ***Variables***\n",
    "    - **`edge_set`**: the edge set of the graph\n",
    "    - **`vertex_set`**: the vertex set of the graph\n",
    "- ***Methods***\n",
    "    - **`add_edge(e)`**: adds edge e to the edge set and its endoints to the vertex set.\n",
    "    - **`spans(H)`**: checks if H is a spanning subgraph\n",
    "    - **`draw_graph()`**: draws the graph\n",
    "    - **`draw_subgraph(H)`**: draws the graph with the subgraph H highlighted\n",
    "    \n",
    "An instance of the `Weighted_Graph` class is created by the command `Weighted_Graph(<file>)` where `<file>` is the name of a file containing the edges, vertices, and weights for a specific weighted graph. All of the variables and methods for the `Graph` class are usable by a `Weighted_Graph` object.  There is one new variable\n",
    "- **`edge_dict`** : A dictionary assigning weights to edges (the keys are edges and the values are weights\n",
    "\n"
   ]
  },
  {
   "cell_type": "markdown",
   "metadata": {},
   "source": [
    "### Prim's Algorithm\n",
    "\n",
    "Recall that Prim's Algorithm for finding a MST (minimal-wieght spanning tree) $T=(V_T,E_T)$ of a weighted graph $G=(V,E)$ works as follows.\n",
    "- **Step 0**: Pick a random vertex $v$ and initialize $T=(\\{v\\},\\{\\})$\n",
    "- **Step 1**: Find the edge $e$ with smallest weight such that $T+e$ is a tree.\n",
    "- **Step 2**: Update $T=T+e$\n",
    "- **Step 3**: Repeat steps 1 and 2 until $T$ spans $G$\n",
    "\n",
    "**Step 1** actually requires 3 substeps\n",
    "1. **Find incident edges**: Find all edges of $G$ that are incident with $T$.\n",
    "2. **Find all valid edges**: From the incident edges, find all edges $e$ such that $T+e$ is a tree\n",
    "3. **Find the valid edge with minimum weight**\n",
    "\n",
    "You will first define functions to perform the substeps of step 1. After defining these functions, will write a function to implement Prims algorithm. Finally, you will test your functions on two graphs."
   ]
  },
  {
   "cell_type": "markdown",
   "metadata": {},
   "source": [
    "### Finding incident edges.\n",
    "**Problem 1**: Write a function `incident_edges` that finds all edges from a graph $G$ that are incident with a subgraph $T$"
   ]
  },
  {
   "cell_type": "code",
   "execution_count": null,
   "metadata": {
    "collapsed": true
   },
   "outputs": [],
   "source": [
    "\n",
    "def incident_edges(G,T):\n",
    "    ''' return the set of all edges from graph G that are incident with tree T'''\n",
    "    \n",
    "    # initialize an empty set incidentEdges \n",
    "    ...\n",
    "    \n",
    "    # for every vertex v in T check all edges e in G.  \n",
    "    # if v is an endpoint of e, add e to incidentEdges\n",
    "    ...\n",
    "    \n",
    "    # return indicent edges that are not already edges in T \n",
    "    ...\n",
    "    "
   ]
  },
  {
   "cell_type": "markdown",
   "metadata": {},
   "source": [
    "Test `incident_edges` using `test1.txt` and `test1sub.txt`. If your function is correct, you should see\n",
    "`{(2, 4), (3, 4), (3, 5), (4, 5)}`"
   ]
  },
  {
   "cell_type": "code",
   "execution_count": null,
   "metadata": {
    "collapsed": true
   },
   "outputs": [],
   "source": [
    "G = Weighted_Graph('test1.txt')\n",
    "T = Graph('test1sub.txt')\n",
    "incident_edges(G,T)"
   ]
  },
  {
   "cell_type": "markdown",
   "metadata": {},
   "source": [
    "### Finding valid edges.\n",
    "**Problem 2**: Write a function `valid edges` that takes a Graph $G$ and a subgraph $T$, and returns all edges $e$ in $G$ where $T+e$ is a tree. (Hint: first find all edges incident with $T$ and then find the ones that can be added to $T$ to make a tree)."
   ]
  },
  {
   "cell_type": "code",
   "execution_count": null,
   "metadata": {
    "collapsed": true
   },
   "outputs": [],
   "source": [
    "def valid_edges(G,T):\n",
    "    ''' return the set of all edges e from G where T+e is a tree and e is not already an edge of T'''\n",
    "\n",
    "    # get a set incident of all edges in G incident with T\n",
    "    ...\n",
    "    \n",
    "    # initialize an empty set valid \n",
    "    ...\n",
    "    \n",
    "    # check all edges e in incident.  if T+e is a tree, add e to valid\n",
    "    # Hint: test e using a copy of T\n",
    "    ...\n",
    "    \n",
    "    # return all of the valid edges   \n",
    "    ...\n"
   ]
  },
  {
   "cell_type": "markdown",
   "metadata": {},
   "source": [
    "Test `valid_edges` using `test1.txt` and `test1sub.txt`. If your function is correct, you should see\n",
    "`{(2, 4), (3, 4), (4, 5)}`"
   ]
  },
  {
   "cell_type": "code",
   "execution_count": null,
   "metadata": {
    "collapsed": true
   },
   "outputs": [],
   "source": []
  },
  {
   "cell_type": "markdown",
   "metadata": {},
   "source": [
    "### Finding the minimum valid edge\n",
    "We now need to find the valid edge with the smallest weight.  It may make your code more readable to create a function `weight` that takes a graph $G$ and an edge $e$ and returns the weight of the edge. \n",
    "\n",
    "**Problem 3**: Complete the function `weight` below."
   ]
  },
  {
   "cell_type": "code",
   "execution_count": null,
   "metadata": {
    "collapsed": true
   },
   "outputs": [],
   "source": [
    "def weight(e,G):\n",
    "    ''' return the weight of an edge in a weighted graph G '''\n",
    "    ..."
   ]
  },
  {
   "cell_type": "markdown",
   "metadata": {},
   "source": [
    "**Problem 4**:  Now write a function that takes a graph $G$ and a subgraph $T$, checks all valid edges (the edges that can be added to T to produce a tree) and returns the one with the minimum weight."
   ]
  },
  {
   "cell_type": "code",
   "execution_count": null,
   "metadata": {
    "collapsed": true
   },
   "outputs": [],
   "source": [
    "def min_valid_edge(G,T):\n",
    "    ''' return the edge e from graph G with minimum weight where T+e is a tree '''\n",
    " \n",
    "    # get a set all edges e in G where T+e is a tree\n",
    "    ...\n",
    "    \n",
    "    # initialize min_edge to be a random edge in valid \n",
    "    ...\n",
    "   \n",
    "    # check all valid edges e.  if the weight of e is less than the weight of min_edge, update minEdge = e \n",
    "    ...\n",
    "   \n",
    "    # return min_edge\n",
    "    ...\n",
    "\n"
   ]
  },
  {
   "cell_type": "markdown",
   "metadata": {},
   "source": [
    "Test `min_valid_edge` using `test1.txt` and `test1sub.txt`. If your function is correct, you should see\n",
    "`(3, 4)`"
   ]
  },
  {
   "cell_type": "code",
   "execution_count": null,
   "metadata": {
    "collapsed": true
   },
   "outputs": [],
   "source": []
  },
  {
   "cell_type": "markdown",
   "metadata": {},
   "source": [
    "### Prim's algorithm\n",
    "\n",
    "**Problem 5**:  Finally, write a function that takes as input a graph $G$ and executes Prim's algorithm to find a minimum-weight spanning tree.  "
   ]
  },
  {
   "cell_type": "code",
   "execution_count": null,
   "metadata": {
    "collapsed": true
   },
   "outputs": [],
   "source": [
    "def prim(G):\n",
    "    ''' Use Prim's algorithm to find a MST for the graph G '''    \n",
    "\n",
    "    # Initialize tree T with a single vertex and no edges \n",
    "    v = next(iter(...))\n",
    "    ...\n",
    "    \n",
    "    # while the vertex set of T is smaller than the vertex set of G, \n",
    "    # (i.e. while the vertex set of T is a proper subset of the \n",
    "    #  vertex set of G), find the edge e with minimum weight so that  \n",
    "    # T+e is a tree. Then update T = T+e '''\n",
    "    ...\n",
    "\n",
    "    # return T \n",
    "    ...\n",
    "    "
   ]
  },
  {
   "cell_type": "markdown",
   "metadata": {},
   "source": [
    "### Use Prim's Algorithm\n",
    "**Problem 6**: Yay! You've implemented Prim's algorithm!  Now use it to find a minimal-weight spanning tree for the graph in the file `test1.txt`.  Use the method `draw_subgraph` to draw the graph with it's minimal-weight spanning tree."
   ]
  },
  {
   "cell_type": "code",
   "execution_count": null,
   "metadata": {
    "collapsed": true,
    "scrolled": true
   },
   "outputs": [],
   "source": []
  },
  {
   "cell_type": "markdown",
   "metadata": {},
   "source": [
    "**Problem 7**: Repeat the previous exercise using the graph in the file `test2.txt`"
   ]
  },
  {
   "cell_type": "code",
   "execution_count": 1,
   "metadata": {},
   "outputs": [
    {
     "data": {
      "text/plain": [
       "Ellipsis"
      ]
     },
     "execution_count": 1,
     "metadata": {},
     "output_type": "execute_result"
    }
   ],
   "source": []
  }
 ],
 "metadata": {
  "@webio": {
   "lastCommId": "5825bff15d6f466b9ed2c18b54d382f5",
   "lastKernelId": "f1b2f2d1-2a58-402c-b4b7-90f9751bda4a"
  },
  "kernelspec": {
   "display_name": "Python 3",
   "language": "python",
   "name": "python3"
  },
  "language_info": {
   "codemirror_mode": {
    "name": "ipython",
    "version": 3
   },
   "file_extension": ".py",
   "mimetype": "text/x-python",
   "name": "python",
   "nbconvert_exporter": "python",
   "pygments_lexer": "ipython3",
   "version": "3.7.1"
  }
 },
 "nbformat": 4,
 "nbformat_minor": 2
}
